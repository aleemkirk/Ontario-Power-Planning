{
 "cells": [
  {
   "cell_type": "markdown",
   "metadata": {},
   "source": [
    "# Data Exploration\n",
    "\n",
    "This notebook explores the Ontario energy system data and validates all parameters."
   ]
  },
  {
   "cell_type": "code",
   "execution_count": null,
   "metadata": {},
   "outputs": [],
   "source": [
    "import sys\n",
    "sys.path.insert(0, '..')\n",
    "\n",
    "import pandas as pd\n",
    "import numpy as np\n",
    "import matplotlib.pyplot as plt\n",
    "import seaborn as sns\n",
    "\n",
    "from data.load_data import DataLoader, create_sample_data\n",
    "\n",
    "sns.set_style('whitegrid')\n",
    "%matplotlib inline"
   ]
  },
  {
   "cell_type": "markdown",
   "metadata": {},
   "source": [
    "## 1. Create Sample Data"
   ]
  },
  {
   "cell_type": "code",
   "execution_count": null,
   "metadata": {},
   "outputs": [],
   "source": [
    "# Create sample data files\n",
    "create_sample_data()"
   ]
  },
  {
   "cell_type": "markdown",
   "metadata": {},
   "source": [
    "## 2. Load Data"
   ]
  },
  {
   "cell_type": "code",
   "execution_count": null,
   "metadata": {},
   "outputs": [],
   "source": [
    "loader = DataLoader('../data/processed/')\n",
    "plant_params, demand, initial_cap = loader.load_all_data()"
   ]
  },
  {
   "cell_type": "markdown",
   "metadata": {},
   "source": [
    "## 3. Explore Plant Parameters"
   ]
  },
  {
   "cell_type": "code",
   "execution_count": null,
   "metadata": {},
   "outputs": [],
   "source": [
    "# Create DataFrame for easy visualization\n",
    "params_df = pd.DataFrame(plant_params)\n",
    "print(params_df)"
   ]
  },
  {
   "cell_type": "code",
   "execution_count": null,
   "metadata": {},
   "outputs": [],
   "source": [
    "# Plot capital costs\n",
    "plt.figure(figsize=(10, 6))\n",
    "plt.bar(params_df.columns, params_df.loc['capex'])\n",
    "plt.xlabel('Plant Type')\n",
    "plt.ylabel('Capital Cost ($/kW)')\n",
    "plt.title('Capital Costs by Plant Type')\n",
    "plt.xticks(rotation=45)\n",
    "plt.tight_layout()\n",
    "plt.show()"
   ]
  },
  {
   "cell_type": "markdown",
   "metadata": {},
   "source": [
    "## 4. Explore Demand Forecast"
   ]
  },
  {
   "cell_type": "code",
   "execution_count": null,
   "metadata": {},
   "outputs": [],
   "source": [
    "print(demand.head(10))\n",
    "print(f\"\\nDemand growth from 2025 to 2045: {demand['annual_demand'].iloc[-1] / demand['annual_demand'].iloc[0] - 1:.1%}\")"
   ]
  },
  {
   "cell_type": "code",
   "execution_count": null,
   "metadata": {},
   "outputs": [],
   "source": [
    "# Plot demand forecast\n",
    "fig, ax = plt.subplots(1, 2, figsize=(15, 5))\n",
    "\n",
    "ax[0].plot(demand['year'], demand['annual_demand'] / 1000, marker='o')\n",
    "ax[0].set_xlabel('Year')\n",
    "ax[0].set_ylabel('Annual Demand (TWh)')\n",
    "ax[0].set_title('Annual Electricity Demand Forecast')\n",
    "ax[0].grid(True)\n",
    "\n",
    "ax[1].plot(demand['year'], demand['peak_demand'] / 1000, marker='o', color='red')\n",
    "ax[1].set_xlabel('Year')\n",
    "ax[1].set_ylabel('Peak Demand (GW)')\n",
    "ax[1].set_title('Peak Demand Forecast')\n",
    "ax[1].grid(True)\n",
    "\n",
    "plt.tight_layout()\n",
    "plt.show()"
   ]
  },
  {
   "cell_type": "markdown",
   "metadata": {},
   "source": [
    "## 5. Initial Capacity Mix"
   ]
  },
  {
   "cell_type": "code",
   "execution_count": null,
   "metadata": {},
   "outputs": [],
   "source": [
    "# Plot initial capacity\n",
    "plt.figure(figsize=(10, 6))\n",
    "plt.bar(initial_cap.keys(), [v / 1000 for v in initial_cap.values()])\n",
    "plt.xlabel('Plant Type')\n",
    "plt.ylabel('Capacity (GW)')\n",
    "plt.title('Initial Capacity Mix (2025)')\n",
    "plt.xticks(rotation=45)\n",
    "plt.tight_layout()\n",
    "plt.show()\n",
    "\n",
    "total_capacity = sum(initial_cap.values())\n",
    "print(f\"Total initial capacity: {total_capacity / 1000:.1f} GW\")"
   ]
  },
  {
   "cell_type": "markdown",
   "metadata": {},
   "source": [
    "## 6. Validate Data"
   ]
  },
  {
   "cell_type": "code",
   "execution_count": null,
   "metadata": {},
   "outputs": [],
   "source": [
    "loader.validate_data()"
   ]
  }
 ],
 "metadata": {
  "kernelspec": {
   "display_name": "Python 3",
   "language": "python",
   "name": "python3"
  },
  "language_info": {
   "codemirror_mode": {
    "name": "ipython",
    "version": 3
   },
   "file_extension": ".py",
   "mimetype": "text/x-python",
   "name": "python",
   "nbconvert_exporter": "python",
   "pygments_lexer": "ipython3",
   "version": "3.9.0"
  }
 },
 "nbformat": 4,
 "nbformat_minor": 4
}
